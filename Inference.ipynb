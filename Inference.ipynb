{
  "nbformat": 4,
  "nbformat_minor": 0,
  "metadata": {
    "colab": {
      "name": " Inference.ipynb",
      "provenance": [],
      "collapsed_sections": [],
      "include_colab_link": true
    },
    "kernelspec": {
      "name": "python3",
      "display_name": "Python 3"
    },
    "accelerator": "GPU"
  },
  "cells": [
    {
      "cell_type": "markdown",
      "metadata": {
        "id": "view-in-github",
        "colab_type": "text"
      },
      "source": [
        "<a href=\"https://colab.research.google.com/github/gurrajo/markerlib/blob/master/Inference.ipynb\" target=\"_parent\"><img src=\"https://colab.research.google.com/assets/colab-badge.svg\" alt=\"Open In Colab\"/></a>"
      ]
    },
    {
      "cell_type": "markdown",
      "metadata": {
        "id": "G3QZXChnUr_X"
      },
      "source": [
        "This notebook runs inference on pictures from google drive. Simply mount your google drive and make sure to change the path. Also make sure to upload the weights from the mmodel you have trained.\n"
      ]
    },
    {
      "cell_type": "code",
      "metadata": {
        "colab": {
          "base_uri": "https://localhost:8080/"
        },
        "id": "B3KGUu5YQnl2",
        "outputId": "64675ba9-c5df-4692-c9be-52889a87013e"
      },
      "source": [
        "! git clone https://github.com/ultralytics/yolov5 \n",
        "%cd /content/yolov5 "
      ],
      "execution_count": null,
      "outputs": [
        {
          "output_type": "stream",
          "text": [
            "Cloning into 'yolov5'...\n",
            "remote: Enumerating objects: 6249, done.\u001b[K\n",
            "remote: Counting objects: 100% (43/43), done.\u001b[K\n",
            "remote: Compressing objects: 100% (33/33), done.\u001b[K\n",
            "remote: Total 6249 (delta 18), reused 17 (delta 10), pack-reused 6206\u001b[K\n",
            "Receiving objects: 100% (6249/6249), 8.50 MiB | 27.80 MiB/s, done.\n",
            "Resolving deltas: 100% (4278/4278), done.\n",
            "/content/yolov5\n"
          ],
          "name": "stdout"
        }
      ]
    },
    {
      "cell_type": "code",
      "metadata": {
        "colab": {
          "base_uri": "https://localhost:8080/"
        },
        "id": "fh1ejfzs3ydW",
        "outputId": "8004c233-d451-4476-a0b5-22d7b06e0800"
      },
      "source": [
        "from google.colab import drive\n",
        "drive.mount('/content/drive')"
      ],
      "execution_count": null,
      "outputs": [
        {
          "output_type": "stream",
          "text": [
            "Mounted at /content/drive\n"
          ],
          "name": "stdout"
        }
      ]
    },
    {
      "cell_type": "code",
      "metadata": {
        "id": "NH1DWooDVpNU"
      },
      "source": [
        "import torch\n"
      ],
      "execution_count": null,
      "outputs": []
    },
    {
      "cell_type": "code",
      "metadata": {
        "colab": {
          "base_uri": "https://localhost:8080/"
        },
        "id": "9saMOWGD5usF",
        "outputId": "0eb76b35-de89-4948-9f09-e3a5fcb376c3"
      },
      "source": [
        "!pip install -qr requirements.txt"
      ],
      "execution_count": null,
      "outputs": [
        {
          "output_type": "stream",
          "text": [
            "\u001b[?25l\r\u001b[K     |▌                               | 10kB 26.9MB/s eta 0:00:01\r\u001b[K     |█                               | 20kB 16.5MB/s eta 0:00:01\r\u001b[K     |█▌                              | 30kB 9.6MB/s eta 0:00:01\r\u001b[K     |██                              | 40kB 8.0MB/s eta 0:00:01\r\u001b[K     |██▋                             | 51kB 5.4MB/s eta 0:00:01\r\u001b[K     |███                             | 61kB 5.8MB/s eta 0:00:01\r\u001b[K     |███▋                            | 71kB 6.3MB/s eta 0:00:01\r\u001b[K     |████▏                           | 81kB 6.2MB/s eta 0:00:01\r\u001b[K     |████▋                           | 92kB 6.0MB/s eta 0:00:01\r\u001b[K     |█████▏                          | 102kB 5.2MB/s eta 0:00:01\r\u001b[K     |█████▋                          | 112kB 5.2MB/s eta 0:00:01\r\u001b[K     |██████▏                         | 122kB 5.2MB/s eta 0:00:01\r\u001b[K     |██████▊                         | 133kB 5.2MB/s eta 0:00:01\r\u001b[K     |███████▏                        | 143kB 5.2MB/s eta 0:00:01\r\u001b[K     |███████▊                        | 153kB 5.2MB/s eta 0:00:01\r\u001b[K     |████████▎                       | 163kB 5.2MB/s eta 0:00:01\r\u001b[K     |████████▊                       | 174kB 5.2MB/s eta 0:00:01\r\u001b[K     |█████████▎                      | 184kB 5.2MB/s eta 0:00:01\r\u001b[K     |█████████▉                      | 194kB 5.2MB/s eta 0:00:01\r\u001b[K     |██████████▎                     | 204kB 5.2MB/s eta 0:00:01\r\u001b[K     |██████████▉                     | 215kB 5.2MB/s eta 0:00:01\r\u001b[K     |███████████▎                    | 225kB 5.2MB/s eta 0:00:01\r\u001b[K     |███████████▉                    | 235kB 5.2MB/s eta 0:00:01\r\u001b[K     |████████████▍                   | 245kB 5.2MB/s eta 0:00:01\r\u001b[K     |████████████▉                   | 256kB 5.2MB/s eta 0:00:01\r\u001b[K     |█████████████▍                  | 266kB 5.2MB/s eta 0:00:01\r\u001b[K     |██████████████                  | 276kB 5.2MB/s eta 0:00:01\r\u001b[K     |██████████████▍                 | 286kB 5.2MB/s eta 0:00:01\r\u001b[K     |███████████████                 | 296kB 5.2MB/s eta 0:00:01\r\u001b[K     |███████████████▍                | 307kB 5.2MB/s eta 0:00:01\r\u001b[K     |████████████████                | 317kB 5.2MB/s eta 0:00:01\r\u001b[K     |████████████████▌               | 327kB 5.2MB/s eta 0:00:01\r\u001b[K     |█████████████████               | 337kB 5.2MB/s eta 0:00:01\r\u001b[K     |█████████████████▌              | 348kB 5.2MB/s eta 0:00:01\r\u001b[K     |██████████████████              | 358kB 5.2MB/s eta 0:00:01\r\u001b[K     |██████████████████▌             | 368kB 5.2MB/s eta 0:00:01\r\u001b[K     |███████████████████             | 378kB 5.2MB/s eta 0:00:01\r\u001b[K     |███████████████████▋            | 389kB 5.2MB/s eta 0:00:01\r\u001b[K     |████████████████████            | 399kB 5.2MB/s eta 0:00:01\r\u001b[K     |████████████████████▋           | 409kB 5.2MB/s eta 0:00:01\r\u001b[K     |█████████████████████           | 419kB 5.2MB/s eta 0:00:01\r\u001b[K     |█████████████████████▋          | 430kB 5.2MB/s eta 0:00:01\r\u001b[K     |██████████████████████▏         | 440kB 5.2MB/s eta 0:00:01\r\u001b[K     |██████████████████████▋         | 450kB 5.2MB/s eta 0:00:01\r\u001b[K     |███████████████████████▏        | 460kB 5.2MB/s eta 0:00:01\r\u001b[K     |███████████████████████▊        | 471kB 5.2MB/s eta 0:00:01\r\u001b[K     |████████████████████████▏       | 481kB 5.2MB/s eta 0:00:01\r\u001b[K     |████████████████████████▊       | 491kB 5.2MB/s eta 0:00:01\r\u001b[K     |█████████████████████████▏      | 501kB 5.2MB/s eta 0:00:01\r\u001b[K     |█████████████████████████▊      | 512kB 5.2MB/s eta 0:00:01\r\u001b[K     |██████████████████████████▎     | 522kB 5.2MB/s eta 0:00:01\r\u001b[K     |██████████████████████████▊     | 532kB 5.2MB/s eta 0:00:01\r\u001b[K     |███████████████████████████▎    | 542kB 5.2MB/s eta 0:00:01\r\u001b[K     |███████████████████████████▉    | 552kB 5.2MB/s eta 0:00:01\r\u001b[K     |████████████████████████████▎   | 563kB 5.2MB/s eta 0:00:01\r\u001b[K     |████████████████████████████▉   | 573kB 5.2MB/s eta 0:00:01\r\u001b[K     |█████████████████████████████▍  | 583kB 5.2MB/s eta 0:00:01\r\u001b[K     |█████████████████████████████▉  | 593kB 5.2MB/s eta 0:00:01\r\u001b[K     |██████████████████████████████▍ | 604kB 5.2MB/s eta 0:00:01\r\u001b[K     |██████████████████████████████▉ | 614kB 5.2MB/s eta 0:00:01\r\u001b[K     |███████████████████████████████▍| 624kB 5.2MB/s eta 0:00:01\r\u001b[K     |████████████████████████████████| 634kB 5.2MB/s eta 0:00:01\r\u001b[K     |████████████████████████████████| 645kB 5.2MB/s \n",
            "\u001b[?25h"
          ],
          "name": "stdout"
        }
      ]
    },
    {
      "cell_type": "code",
      "metadata": {
        "colab": {
          "base_uri": "https://localhost:8080/"
        },
        "id": "xXwyyLDRQlce",
        "outputId": "5a78f66c-de86-47e7-c362-e672cb4574ee"
      },
      "source": [
        "%cd /content/yolov5\n",
        "!python detect.py --source ../drive/MyDrive/infpics/Inference_pictures   --weights ultimate_weights.pt --conf 0.7  --save-txt\n"
      ],
      "execution_count": null,
      "outputs": [
        {
          "output_type": "stream",
          "text": [
            "/content/yolov5\n",
            "Namespace(agnostic_nms=False, augment=False, classes=None, conf_thres=0.7, device='', exist_ok=False, hide_conf=False, hide_labels=False, img_size=640, iou_thres=0.45, line_thickness=3, name='exp', nosave=False, project='runs/detect', save_conf=False, save_crop=False, save_txt=True, source='../drive/MyDrive/infpics/Inference_pictures', update=False, view_img=False, weights=['ultimate_weights.pt'])\n",
            "YOLOv5 🚀 v5.0-78-g60fe544 torch 1.8.1+cu101 CUDA:0 (Tesla P4, 7611.9375MB)\n",
            "\n",
            "Fusing layers... \n",
            "Model Summary: 232 layers, 7249215 parameters, 0 gradients\n",
            "image 1/1 /content/yolov5/../drive/MyDrive/infpics/Inference_pictures/GOPR0210_16050881947191.JPG: 480x640 5 closed_boxs, 3 open_boxs, Done. (0.020s)\n",
            "Results saved to runs/detect/exp2\n",
            "1 labels saved to runs/detect/exp2/labels\n",
            "Done. (2.024s)\n"
          ],
          "name": "stdout"
        }
      ]
    }
  ]
}